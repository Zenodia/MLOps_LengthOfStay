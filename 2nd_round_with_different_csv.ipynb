{
  "cells": [
    {
      "metadata": {
        "trusted": true
      },
      "cell_type": "code",
      "source": "!pip install azureml.core==1.0.41",
      "execution_count": 9,
      "outputs": [
        {
          "output_type": "stream",
          "text": "Collecting azureml.core==1.0.41\n\u001b[?25l  Downloading https://files.pythonhosted.org/packages/ea/00/a24cba8daae43a02504c9c84119a07f1678af35e3912d9476caadd47b1ec/azureml_core-1.0.41-py2.py3-none-any.whl (915kB)\n\u001b[K     |████████████████████████████████| 921kB 2.7MB/s eta 0:00:01\n\u001b[?25hRequirement already satisfied: azure-graphrbac>=0.40.0 in /home/nbuser/anaconda3_501/lib/python3.6/site-packages (from azureml.core==1.0.41) (0.40.0)\nRequirement already satisfied: pytz in /home/nbuser/anaconda3_501/lib/python3.6/site-packages (from azureml.core==1.0.41) (2018.7)\nRequirement already satisfied: azure-mgmt-resource>=1.2.1 in /home/nbuser/anaconda3_501/lib/python3.6/site-packages (from azureml.core==1.0.41) (2.0.0)\nRequirement already satisfied: azure-mgmt-storage>=1.5.0 in /home/nbuser/anaconda3_501/lib/python3.6/site-packages (from azureml.core==1.0.41) (2.0.0)\nRequirement already satisfied: backports.tempfile in /home/nbuser/anaconda3_501/lib/python3.6/site-packages (from azureml.core==1.0.41) (1.0)\nRequirement already satisfied: PyJWT in /home/nbuser/anaconda3_501/lib/python3.6/site-packages (from azureml.core==1.0.41) (1.7.1)\nRequirement already satisfied: contextlib2 in /home/nbuser/anaconda3_501/lib/python3.6/site-packages (from azureml.core==1.0.41) (0.5.5)\nRequirement already satisfied: python-dateutil>=2.7.3 in /home/nbuser/anaconda3_501/lib/python3.6/site-packages (from azureml.core==1.0.41) (2.7.5)\nRequirement already satisfied: azure-common>=1.1.12 in /home/nbuser/anaconda3_501/lib/python3.6/site-packages (from azureml.core==1.0.41) (1.1.20)\nRequirement already satisfied: pathspec in /home/nbuser/anaconda3_501/lib/python3.6/site-packages (from azureml.core==1.0.41) (0.5.9)\nRequirement already satisfied: msrest>=0.5.1 in /home/nbuser/anaconda3_501/lib/python3.6/site-packages (from azureml.core==1.0.41) (0.6.6)\nRequirement already satisfied: adal>=1.2.0 in /home/nbuser/anaconda3_501/lib/python3.6/site-packages (from azureml.core==1.0.41) (1.2.1)\nRequirement already satisfied: cryptography!=1.9,!=2.0.*,!=2.1.*,!=2.2.* in /home/nbuser/anaconda3_501/lib/python3.6/site-packages (from azureml.core==1.0.41) (2.3.1)\nRequirement already satisfied: docker in /home/nbuser/anaconda3_501/lib/python3.6/site-packages (from azureml.core==1.0.41) (3.7.2)\nRequirement already satisfied: pyopenssl in /home/nbuser/anaconda3_501/lib/python3.6/site-packages (from azureml.core==1.0.41) (18.0.0)\nRequirement already satisfied: SecretStorage in /home/nbuser/anaconda3_501/lib/python3.6/site-packages (from azureml.core==1.0.41) (3.1.0)\nRequirement already satisfied: azure-mgmt-keyvault>=0.40.0 in /home/nbuser/anaconda3_501/lib/python3.6/site-packages (from azureml.core==1.0.41) (1.1.0)\nRequirement already satisfied: jsonpickle in /home/nbuser/anaconda3_501/lib/python3.6/site-packages (from azureml.core==1.0.41) (1.1)\nRequirement already satisfied: ndg-httpsclient in /home/nbuser/anaconda3_501/lib/python3.6/site-packages (from azureml.core==1.0.41) (0.5.1)\nRequirement already satisfied: paramiko>=2.0.8 in /home/nbuser/anaconda3_501/lib/python3.6/site-packages (from azureml.core==1.0.41) (2.4.2)\nRequirement already satisfied: azure-mgmt-authorization>=0.40.0 in /home/nbuser/anaconda3_501/lib/python3.6/site-packages (from azureml.core==1.0.41) (0.50.0)\nRequirement already satisfied: jmespath in /home/nbuser/anaconda3_501/lib/python3.6/site-packages (from azureml.core==1.0.41) (0.9.4)\nRequirement already satisfied: urllib3>=1.23 in /home/nbuser/anaconda3_501/lib/python3.6/site-packages (from azureml.core==1.0.41) (1.23)\nRequirement already satisfied: azure-mgmt-containerregistry>=2.0.0 in /home/nbuser/anaconda3_501/lib/python3.6/site-packages (from azureml.core==1.0.41) (2.8.0)\nRequirement already satisfied: msrestazure>=0.4.33 in /home/nbuser/anaconda3_501/lib/python3.6/site-packages (from azureml.core==1.0.41) (0.6.0)\nRequirement already satisfied: requests>=2.19.1 in /home/nbuser/anaconda3_501/lib/python3.6/site-packages (from azureml.core==1.0.41) (2.21.0)\nRequirement already satisfied: six>=1.11.0 in /home/nbuser/anaconda3_501/lib/python3.6/site-packages (from azureml.core==1.0.41) (1.11.0)\nRequirement already satisfied: ruamel.yaml<=0.15.89,>=0.15.35 in /home/nbuser/anaconda3_501/lib/python3.6/site-packages (from azureml.core==1.0.41) (0.15.89)\nRequirement already satisfied: azure-nspkg>=2.0.0 in /home/nbuser/anaconda3_501/lib/python3.6/site-packages (from azure-graphrbac>=0.40.0->azureml.core==1.0.41) (3.0.2)\nRequirement already satisfied: azure-mgmt-nspkg>=2.0.0 in /home/nbuser/anaconda3_501/lib/python3.6/site-packages (from azure-mgmt-resource>=1.2.1->azureml.core==1.0.41) (3.0.2)\nRequirement already satisfied: backports.weakref in /home/nbuser/anaconda3_501/lib/python3.6/site-packages (from backports.tempfile->azureml.core==1.0.41) (1.0rc1)\nRequirement already satisfied: isodate>=0.6.0 in /home/nbuser/anaconda3_501/lib/python3.6/site-packages (from msrest>=0.5.1->azureml.core==1.0.41) (0.6.0)\nRequirement already satisfied: certifi>=2017.4.17 in /home/nbuser/anaconda3_501/lib/python3.6/site-packages (from msrest>=0.5.1->azureml.core==1.0.41) (2018.10.15)\nRequirement already satisfied: requests-oauthlib>=0.5.0 in /home/nbuser/anaconda3_501/lib/python3.6/site-packages (from msrest>=0.5.1->azureml.core==1.0.41) (1.2.0)\nRequirement already satisfied: idna>=2.1 in /home/nbuser/anaconda3_501/lib/python3.6/site-packages (from cryptography!=1.9,!=2.0.*,!=2.1.*,!=2.2.*->azureml.core==1.0.41) (2.7)\nRequirement already satisfied: asn1crypto>=0.21.0 in /home/nbuser/anaconda3_501/lib/python3.6/site-packages (from cryptography!=1.9,!=2.0.*,!=2.1.*,!=2.2.*->azureml.core==1.0.41) (0.24.0)\nRequirement already satisfied: cffi!=1.11.3,>=1.7 in /home/nbuser/anaconda3_501/lib/python3.6/site-packages (from cryptography!=1.9,!=2.0.*,!=2.1.*,!=2.2.*->azureml.core==1.0.41) (1.11.5)\nRequirement already satisfied: websocket-client>=0.32.0 in /home/nbuser/anaconda3_501/lib/python3.6/site-packages (from docker->azureml.core==1.0.41) (0.56.0)\nRequirement already satisfied: docker-pycreds>=0.4.0 in /home/nbuser/anaconda3_501/lib/python3.6/site-packages (from docker->azureml.core==1.0.41) (0.4.0)\nRequirement already satisfied: jeepney in /home/nbuser/anaconda3_501/lib/python3.6/site-packages (from SecretStorage->azureml.core==1.0.41) (0.4)\nRequirement already satisfied: pyasn1>=0.1.1 in /home/nbuser/anaconda3_501/lib/python3.6/site-packages (from ndg-httpsclient->azureml.core==1.0.41) (0.4.4)\nRequirement already satisfied: pynacl>=1.0.1 in /home/nbuser/anaconda3_501/lib/python3.6/site-packages (from paramiko>=2.0.8->azureml.core==1.0.41) (1.3.0)\nRequirement already satisfied: bcrypt>=3.1.3 in /home/nbuser/anaconda3_501/lib/python3.6/site-packages (from paramiko>=2.0.8->azureml.core==1.0.41) (3.1.6)\nRequirement already satisfied: chardet<3.1.0,>=3.0.2 in /home/nbuser/anaconda3_501/lib/python3.6/site-packages (from requests>=2.19.1->azureml.core==1.0.41) (3.0.4)\nRequirement already satisfied: oauthlib>=3.0.0 in /home/nbuser/anaconda3_501/lib/python3.6/site-packages (from requests-oauthlib>=0.5.0->msrest>=0.5.1->azureml.core==1.0.41) (3.0.1)\nRequirement already satisfied: pycparser in /home/nbuser/anaconda3_501/lib/python3.6/site-packages (from cffi!=1.11.3,>=1.7->cryptography!=1.9,!=2.0.*,!=2.1.*,!=2.2.*->azureml.core==1.0.41) (2.19)\n\u001b[31mERROR: azureml-widgets 1.0.33 has requirement azureml-core==1.0.33.*, but you'll have azureml-core 1.0.41 which is incompatible.\u001b[0m\n\u001b[31mERROR: azureml-train-core 1.0.33 has requirement azureml-core==1.0.33.*, but you'll have azureml-core 1.0.41 which is incompatible.\u001b[0m\n\u001b[31mERROR: azureml-train-automl 1.0.33 has requirement azureml-core==1.0.33.*, but you'll have azureml-core 1.0.41 which is incompatible.\u001b[0m\n\u001b[31mERROR: azureml-train-automl 1.0.33 has requirement onnxmltools==1.4.0; python_version < \"3.7\", but you'll have onnxmltools 1.3.0 which is incompatible.\u001b[0m\n\u001b[31mERROR: azureml-sdk 1.0.33 has requirement azureml-core==1.0.33.*, but you'll have azureml-core 1.0.41 which is incompatible.\u001b[0m\n\u001b[31mERROR: azureml-pipeline-core 1.0.33 has requirement azureml-core==1.0.33.*, but you'll have azureml-core 1.0.41 which is incompatible.\u001b[0m\n\u001b[31mERROR: azureml-contrib-notebook 1.0.33 has requirement azureml-core==1.0.33.*, but you'll have azureml-core 1.0.41 which is incompatible.\u001b[0m\nInstalling collected packages: azureml.core\n",
          "name": "stdout"
        },
        {
          "output_type": "stream",
          "text": "Successfully installed azureml.core\n\u001b[33mWARNING: You are using pip version 19.1, however version 19.1.1 is available.\nYou should consider upgrading via the 'pip install --upgrade pip' command.\u001b[0m\n",
          "name": "stdout"
        }
      ]
    },
    {
      "metadata": {
        "trusted": true
      },
      "cell_type": "code",
      "source": "%%writefile data_preprocess.py\n# Load packages.\nimport os, sys\nfrom numpy import mean\nfrom math import sqrt\nimport pandas as pd\ndf1=pd.read_csv('LengthOfStay.csv')\ndf1cols=list(df1.columns)\ndf3=pd.read_csv('MetaData_Facilities.csv')\n\ndf13=pd.merge(df1,df3,left_on='facid', right_on='Id')\ndf13.head()\ndel df13['Id']\n## check classes balance\ndf13['vdate']=pd.to_datetime(df13['vdate'])\ndf13['daysofweek_admit']=df13['vdate'].dt.weekday_name\ndf13['los_numeric']=df13['lengthofstay'].astype('int')\nprint(df13.dtypes)\n## encode string columns\nfrom sklearn.preprocessing import LabelEncoder\nle_rcount=LabelEncoder()\ndf13['rcount']=le_rcount.fit_transform(df13['rcount'])\n\nle_gender=LabelEncoder()\ndf13['gender']=le_gender.fit_transform(df13['gender'])\nle_facility=LabelEncoder()\ndf13['Name']=le_facility.fit_transform(df13['Name'])\nle_daysofweekadmit=LabelEncoder()\ndf13['daysofweek_admit']=le_daysofweekadmit.fit_transform(df13['daysofweek_admit'])\nprint(df13.dtypes)\nimport numpy as np\ndef turn2cat(item):\n    if item>=6 :\n        return '>=6_Days'\n    else:\n        return '<6_Days'\ndf13['label']=df13['los_numeric'].apply(lambda x: turn2cat(x))\n\ndf13.head()\n\nfid=LabelEncoder()\ndf13['fid']=fid.fit_transform(df13['facid'])\ndf13['los_numeric']=df13['los_numeric'].astype(float)\n\ndf= df13[['rcount', 'gender', 'dialysisrenalendstage', 'asthma',\n       'irondef', 'pneum', 'substancedependence', 'psychologicaldisordermajor',\n       'depress', 'psychother', 'fibrosisandother', 'malnutrition', 'hemo',\n       'hematocrit', 'neutrophils', 'sodium', 'glucose', 'bloodureanitro',\n       'creatinine', 'bmi', 'pulse', 'respiration',\n       'secondarydiagnosisnonicd9',  'fid',\n       'Capacity', 'Name', 'daysofweek_admit','los_numeric']]\ndf.to_csv('preprocessed.csv')\n",
      "execution_count": 1,
      "outputs": [
        {
          "output_type": "stream",
          "text": "Writing data_preprocess.py\n",
          "name": "stdout"
        }
      ]
    },
    {
      "metadata": {
        "trusted": true
      },
      "cell_type": "code",
      "source": "%run data_preprocess.py",
      "execution_count": 5,
      "outputs": [
        {
          "output_type": "stream",
          "text": "eid                                    int64\nvdate                         datetime64[ns]\nrcount                                object\ngender                                object\ndialysisrenalendstage                  int64\nasthma                                 int64\nirondef                                int64\npneum                                  int64\nsubstancedependence                    int64\npsychologicaldisordermajor             int64\ndepress                                int64\npsychother                             int64\nfibrosisandother                       int64\nmalnutrition                           int64\nhemo                                   int64\nhematocrit                           float64\nneutrophils                          float64\nsodium                               float64\nglucose                              float64\nbloodureanitro                       float64\ncreatinine                           float64\nbmi                                  float64\npulse                                  int64\nrespiration                          float64\nsecondarydiagnosisnonicd9              int64\ndischarged                            object\nfacid                                 object\nlengthofstay                           int64\nCapacity                               int64\nName                                  object\ndaysofweek_admit                      object\nlos_numeric                            int64\ndtype: object\neid                                    int64\nvdate                         datetime64[ns]\nrcount                                 int64\ngender                                 int64\ndialysisrenalendstage                  int64\nasthma                                 int64\nirondef                                int64\npneum                                  int64\nsubstancedependence                    int64\npsychologicaldisordermajor             int64\ndepress                                int64\npsychother                             int64\nfibrosisandother                       int64\nmalnutrition                           int64\nhemo                                   int64\nhematocrit                           float64\nneutrophils                          float64\nsodium                               float64\nglucose                              float64\nbloodureanitro                       float64\ncreatinine                           float64\nbmi                                  float64\npulse                                  int64\nrespiration                          float64\nsecondarydiagnosisnonicd9              int64\ndischarged                            object\nfacid                                 object\nlengthofstay                           int64\nCapacity                               int64\nName                                   int64\ndaysofweek_admit                       int64\nlos_numeric                            int64\ndtype: object\n",
          "name": "stdout"
        }
      ]
    },
    {
      "metadata": {
        "trusted": true
      },
      "cell_type": "code",
      "source": "%%writefile split_train_val.py\nimport pandas as pd\nimport numpy as np\ndf13=pd.read_csv('preprocessed.csv')\nX= df13[['rcount', 'gender', 'dialysisrenalendstage', 'asthma',\n       'irondef', 'pneum', 'substancedependence', 'psychologicaldisordermajor',\n       'depress', 'psychother', 'fibrosisandother', 'malnutrition', 'hemo',\n       'hematocrit', 'neutrophils', 'sodium', 'glucose', 'bloodureanitro',\n       'creatinine', 'bmi', 'pulse', 'respiration',\n       'secondarydiagnosisnonicd9',  'fid',\n       'Capacity', 'Name', 'daysofweek_admit']].values\ny=df13['los_numeric'].values\n#df13.to_csv('merged.csv',index=False)\n# Splitting the dataset into the Training set and Test set\nfrom sklearn.model_selection import train_test_split\nX_train, X_test, y_train, y_test = train_test_split(X, y, test_size = 0.2, random_state = 0)\n\nprint(X_train.shape, X_test.shape, y_train.shape, y_test.shape)\nnp.save('X_train.npy', X_train)\nnp.save('y_train.npy', y_train)\nnp.save('X_test.npy', X_test)\nnp.save('y_test.npy', y_test)",
      "execution_count": 2,
      "outputs": [
        {
          "output_type": "stream",
          "text": "Writing split_train_val.py\n",
          "name": "stdout"
        }
      ]
    },
    {
      "metadata": {
        "trusted": true
      },
      "cell_type": "code",
      "source": "%run split_train_val.py",
      "execution_count": 6,
      "outputs": [
        {
          "output_type": "stream",
          "text": "(80000, 27) (20000, 27) (80000,) (20000,)\n",
          "name": "stdout"
        }
      ]
    },
    {
      "metadata": {
        "trusted": true
      },
      "cell_type": "code",
      "source": "%%writefile train.py\nimport timeit\nimport pickle\nimport pandas as pd\nimport numpy as np\nx_train=np.load('X_train.npy')\ny_train=np.load('y_train.npy')\nX_test=np.load('X_test.npy')\ny_test=np.load('y_test.npy')\ndef save_pkl(model, name):\n    filename = name\n    pickle.dump(model, open(filename, 'wb'))\n    \ndef test_load_pkl(name,X_test):\n    loaded_model = pickle.load(open(name, 'rb'))\n    result = loaded_model.predict(X_test)\n    return result\n\nstart = timeit.default_timer()\nfrom sklearn.ensemble import RandomForestRegressor\nname='RandomForest_reg'\n#run.tag(\"Description\",\"{} Regressor\".format(name))\nmodel = RandomForestRegressor(n_estimators = 57 ,random_state = 0) # n_estimator is the # of trees built\nmodel.fit(X_train, y_train)\nfilename='LOS_RF_model_nocluster.pkl'.format(name)\nsave_pkl(model,filename)\ny_pred= test_load_pkl(filename,X_test)\nmse=mean_squared_error(y_test, y_pred)\nprint('Mean Squared Error for {} is'.format(name),mse)",
      "execution_count": 7,
      "outputs": [
        {
          "output_type": "stream",
          "text": "Overwriting train.py\n",
          "name": "stdout"
        }
      ]
    },
    {
      "metadata": {
        "trusted": true
      },
      "cell_type": "code",
      "source": "%run train.py",
      "execution_count": null,
      "outputs": []
    },
    {
      "metadata": {},
      "cell_type": "markdown",
      "source": "# this should be  retriggered to re-deploy to ACI"
    },
    {
      "metadata": {
        "trusted": true
      },
      "cell_type": "code",
      "source": "## deploy to ACI \n# Check core SDK version number\nimport azureml.core\n\nprint(\"SDK version:\", azureml.core.VERSION)\nfrom azureml.core import Workspace\n\nws = Workspace.from_config()\nprint(ws.name, ws.resource_group, ws.location, sep = '\\n')\nfrom azureml.core.model import Model\nimport sklearn\n\nlibrary_version = \"sklearn\"+sklearn.__version__.replace(\".\",\"x\")\n\nmodel = Model.register(model_path = \"LOS_RF_model_nocluster.pkl\",\n                       model_name = \"LOS_RF_model.pkl\", # should i give it the same name here for the DevOps retriggering to work?\n                       tags = {'area': \"LengthOfStay\", 'type': \"regression\", 'version': library_version},\n                       description = \"RF regression model to predict LengthOfStay\",\n                       workspace = ws)",
      "execution_count": null,
      "outputs": []
    },
    {
      "metadata": {
        "trusted": true
      },
      "cell_type": "code",
      "source": "from azureml.core.image import Image, ContainerImage\n\nimage_config = ContainerImage.image_configuration(runtime= \"python\",\n                                 execution_script=\"score.py\",\n                                 conda_file=\"myenv.yml\",\n                                 tags = {'area': \"los\", 'type': \"regression\"},\n                                 description = \"Image with randomforest regression model\")\n\nimage = Image.create(name = \"los-image0\",\n                     # this is the model object. note you can pass in 0-n models via this list-type parameter\n                     # in case you need to reference multiple models, or none at all, in your scoring script.\n                     models = [model],\n                     image_config = image_config, \n                     workspace = ws)",
      "execution_count": null,
      "outputs": []
    },
    {
      "metadata": {
        "trusted": true
      },
      "cell_type": "code",
      "source": "image.wait_for_creation(show_output = True)",
      "execution_count": null,
      "outputs": []
    },
    {
      "metadata": {
        "trusted": true
      },
      "cell_type": "code",
      "source": "\nfrom azureml.core.webservice import AciWebservice\n\naciconfig = AciWebservice.deploy_configuration(cpu_cores = 1, \n                                               memory_gb = 1, \n                                               tags = {'area': \"los\", 'type': \"regression\"}, ",
      "execution_count": null,
      "outputs": []
    },
    {
      "metadata": {
        "trusted": true
      },
      "cell_type": "code",
      "source": "from azureml.core.webservice import Webservice\n\naci_service_name = 'los-aci-service-2nd-0'\nprint(aci_service_name)\naci_service = Webservice.deploy_from_image(deployment_config = aciconfig,\n                                           image = image,\n                                           name = aci_service_name,\n                                           workspace = ws)\naci_service.wait_for_deployment(True)\nprint(aci_service.state)",
      "execution_count": null,
      "outputs": []
    },
    {
      "metadata": {
        "trusted": true
      },
      "cell_type": "code",
      "source": "aci_service.get_logs()",
      "execution_count": null,
      "outputs": []
    },
    {
      "metadata": {
        "trusted": true
      },
      "cell_type": "code",
      "source": "aci_service.scoring_uri",
      "execution_count": null,
      "outputs": []
    },
    {
      "metadata": {
        "trusted": true
      },
      "cell_type": "code",
      "source": "import numpy as np\nimport json\n##load X_test which we processed from data_preprocess.py --> split_train_val.py from which the model is trained and redeployed \nX_test=np.load(\"X_test.npy\")\ny_test=np.load(\"y_test.npy\")\ntest_sample = json.dumps({'data': [\nX_test[0].tolist()\n]})\ntest_sample = bytes(test_sample,encoding = 'utf8')\n\nprediction = aci_service.run(input_data=test_sample)\nprint(\"actual label {} ,pred label {}\".format(str(y_test[0]),str(prediction[0])))",
      "execution_count": null,
      "outputs": []
    }
  ],
  "metadata": {
    "kernelspec": {
      "name": "python36",
      "display_name": "Python 3.6",
      "language": "python"
    },
    "language_info": {
      "mimetype": "text/x-python",
      "nbconvert_exporter": "python",
      "name": "python",
      "pygments_lexer": "ipython3",
      "version": "3.6.6",
      "file_extension": ".py",
      "codemirror_mode": {
        "version": 3,
        "name": "ipython"
      }
    }
  },
  "nbformat": 4,
  "nbformat_minor": 2
}